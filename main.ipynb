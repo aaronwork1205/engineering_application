{
 "cells": [
  {
   "cell_type": "code",
   "execution_count": 16,
   "outputs": [
    {
     "data": {
      "text/plain": "      BRO   BSN   CHC   CIN   NYG   PHI   PIT   STL\nBRO   NaN  10.0  15.0  15.0  14.0  14.0  15.0  11.0\nBSN  12.0   NaN  13.0  13.0  13.0  14.0  12.0   9.0\nCHC   7.0   9.0   NaN  12.0   7.0  16.0   8.0  10.0\nCIN   7.0   9.0  10.0   NaN  13.0  13.0  13.0   8.0\nNYG   8.0   9.0  15.0   9.0   NaN  12.0  15.0  13.0\nPHI   8.0   8.0   6.0   9.0  10.0   NaN  13.0   8.0\nPIT   7.0  10.0  14.0   9.0   7.0   9.0   NaN   6.0\nSTL  11.0  13.0  12.0  14.0   9.0  14.0  16.0   NaN",
      "text/html": "<div>\n<style scoped>\n    .dataframe tbody tr th:only-of-type {\n        vertical-align: middle;\n    }\n\n    .dataframe tbody tr th {\n        vertical-align: top;\n    }\n\n    .dataframe thead th {\n        text-align: right;\n    }\n</style>\n<table border=\"1\" class=\"dataframe\">\n  <thead>\n    <tr style=\"text-align: right;\">\n      <th></th>\n      <th>BRO</th>\n      <th>BSN</th>\n      <th>CHC</th>\n      <th>CIN</th>\n      <th>NYG</th>\n      <th>PHI</th>\n      <th>PIT</th>\n      <th>STL</th>\n    </tr>\n  </thead>\n  <tbody>\n    <tr>\n      <th>BRO</th>\n      <td>NaN</td>\n      <td>10.0</td>\n      <td>15.0</td>\n      <td>15.0</td>\n      <td>14.0</td>\n      <td>14.0</td>\n      <td>15.0</td>\n      <td>11.0</td>\n    </tr>\n    <tr>\n      <th>BSN</th>\n      <td>12.0</td>\n      <td>NaN</td>\n      <td>13.0</td>\n      <td>13.0</td>\n      <td>13.0</td>\n      <td>14.0</td>\n      <td>12.0</td>\n      <td>9.0</td>\n    </tr>\n    <tr>\n      <th>CHC</th>\n      <td>7.0</td>\n      <td>9.0</td>\n      <td>NaN</td>\n      <td>12.0</td>\n      <td>7.0</td>\n      <td>16.0</td>\n      <td>8.0</td>\n      <td>10.0</td>\n    </tr>\n    <tr>\n      <th>CIN</th>\n      <td>7.0</td>\n      <td>9.0</td>\n      <td>10.0</td>\n      <td>NaN</td>\n      <td>13.0</td>\n      <td>13.0</td>\n      <td>13.0</td>\n      <td>8.0</td>\n    </tr>\n    <tr>\n      <th>NYG</th>\n      <td>8.0</td>\n      <td>9.0</td>\n      <td>15.0</td>\n      <td>9.0</td>\n      <td>NaN</td>\n      <td>12.0</td>\n      <td>15.0</td>\n      <td>13.0</td>\n    </tr>\n    <tr>\n      <th>PHI</th>\n      <td>8.0</td>\n      <td>8.0</td>\n      <td>6.0</td>\n      <td>9.0</td>\n      <td>10.0</td>\n      <td>NaN</td>\n      <td>13.0</td>\n      <td>8.0</td>\n    </tr>\n    <tr>\n      <th>PIT</th>\n      <td>7.0</td>\n      <td>10.0</td>\n      <td>14.0</td>\n      <td>9.0</td>\n      <td>7.0</td>\n      <td>9.0</td>\n      <td>NaN</td>\n      <td>6.0</td>\n    </tr>\n    <tr>\n      <th>STL</th>\n      <td>11.0</td>\n      <td>13.0</td>\n      <td>12.0</td>\n      <td>14.0</td>\n      <td>9.0</td>\n      <td>14.0</td>\n      <td>16.0</td>\n      <td>NaN</td>\n    </tr>\n  </tbody>\n</table>\n</div>"
     },
     "execution_count": 16,
     "metadata": {},
     "output_type": "execute_result"
    }
   ],
   "source": [
    "import json\n",
    "import pandas as pd\n",
    "\n",
    "with open('file.json', 'r') as file:\n",
    "    data = json.load(file)\n",
    "\n",
    "\n",
    "transposed_data = {team: {opponent: data[opponent][team][\"W\"] for opponent in data.keys() if opponent!=team} for team in data.keys()}\n",
    "\n",
    "\n",
    "df = pd.DataFrame(transposed_data)\n",
    "last_row = df.iloc[-1]  \n",
    "df = pd.concat([last_row.to_frame().T, df.iloc[:-1]])\n",
    "\n",
    "\n",
    "df\n"
   ],
   "metadata": {
    "collapsed": false,
    "ExecuteTime": {
     "end_time": "2023-12-23T04:18:53.464025Z",
     "start_time": "2023-12-23T04:18:53.456647Z"
    }
   },
   "id": "631daa02b92fa8ff"
  }
 ],
 "metadata": {
  "kernelspec": {
   "display_name": "Python 3",
   "language": "python",
   "name": "python3"
  },
  "language_info": {
   "codemirror_mode": {
    "name": "ipython",
    "version": 2
   },
   "file_extension": ".py",
   "mimetype": "text/x-python",
   "name": "python",
   "nbconvert_exporter": "python",
   "pygments_lexer": "ipython2",
   "version": "2.7.6"
  }
 },
 "nbformat": 4,
 "nbformat_minor": 5
}
